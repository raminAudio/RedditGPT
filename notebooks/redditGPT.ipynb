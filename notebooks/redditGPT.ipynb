{
 "cells": [
  {
   "cell_type": "code",
   "execution_count": 1,
   "id": "835c75aa",
   "metadata": {},
   "outputs": [],
   "source": [
    "import pandas as pd\n",
    "from collections import Counter\n",
    "import sys\n",
    "import numpy as np\n",
    "from matplotlib.pylab import plt\n",
    "pd.options.mode.chained_assignment = None\n",
    "from IPython.display import Image, display\n",
    "\n",
    "import torch\n",
    "import torch.nn as nn\n",
    "from torch.nn import functional as F\n",
    "import ast\n",
    "from dataclasses import dataclass\n",
    "from contextlib import nullcontext\n",
    "import pickle, dill\n",
    "from unidecode import unidecode\n",
    "\n",
    "sys.path.insert(1, '../')\n",
    "from utils.data_utility import DataUtil\n",
    "from utils.helper import estimate_loss, get_batch\n",
    "from utils.attention_block import GPTLanguageModel\n",
    "from tokenizers import ByteLevelBPETokenizer\n",
    "\n",
    "%load_ext autoreload\n",
    "%autoreload 2\n"
   ]
  },
  {
   "cell_type": "markdown",
   "id": "be7836ea",
   "metadata": {},
   "source": [
    "# Data"
   ]
  },
  {
   "cell_type": "code",
   "execution_count": 2,
   "id": "a62ef64f",
   "metadata": {},
   "outputs": [],
   "source": [
    "# Skip this step and go to the next cell if you have your own text file you want to use.  "
   ]
  },
  {
   "cell_type": "code",
   "execution_count": 3,
   "id": "9505c0bd",
   "metadata": {},
   "outputs": [],
   "source": [
    "path_to_data = '../data/'\n",
    "dutil = DataUtil()\n",
    "df_science = pd.read_csv(path_to_data + 'askscience_data.csv').drop('Unnamed: 0',axis=1)\n",
    "texts  = list(df_science['title'].dropna())\n",
    "texts += list(df_science['body'].dropna())\n",
    "\n",
    "text_data = [\" \".join(y.lower().replace('?',' ?').replace(\"!\",\" \").replace(',',' ').replace(';',' ').replace(\"\\\"\",\"\").replace('(',' ').replace(')',' ').replace('[',' ').replace(': ',' ').replace(']',' ').replace(\". \",\" . \").replace('-',' ').replace('*','').replace(\"“\",\"\").replace(\"”\",\"\").replace('_',' ').split()) for y in texts] # vectorized text data\n",
    "text_data = [unidecode(y) for y in text_data ] # vectorized text data\n",
    "final_text = []\n",
    "for y in text_data:\n",
    "    ws = []\n",
    "    for w in y.split():\n",
    "        if 'http' not in w: # vectorized text data\n",
    "            ws.append(w)\n",
    "    final_text.append(\"<s> \" +  ' '.join(ws).replace('/',' ')+ \" </s>\")\n",
    "        \n",
    "text_data = final_text         \n",
    "\n",
    "FromDrive = 0\n",
    "myOwn = 0"
   ]
  },
  {
   "cell_type": "code",
   "execution_count": 4,
   "id": "79761e2d",
   "metadata": {},
   "outputs": [],
   "source": [
    "f = open(path_to_data + 'training_text.txt','w')\n",
    "for t in text_data: \n",
    "    f.write( \"<s> \" + t + \" </s>\")\n",
    "    f.write(' \\n')"
   ]
  },
  {
   "cell_type": "markdown",
   "id": "5a3856bd",
   "metadata": {},
   "source": [
    "# Tokenizer"
   ]
  },
  {
   "cell_type": "code",
   "execution_count": 5,
   "id": "50c2f259",
   "metadata": {},
   "outputs": [
    {
     "name": "stdout",
     "output_type": "stream",
     "text": [
      "\n",
      "\n",
      "\n"
     ]
    }
   ],
   "source": [
    "\n",
    "path = [path_to_data + 'training_text.txt']\n",
    "# Initialize a tokenizer\n",
    "tokenizer = ByteLevelBPETokenizer()\n",
    "\n",
    "# Customize training\n",
    "tokenizer.train(files=path, vocab_size=52_000, min_frequency=2, special_tokens=[\n",
    "    \"<s>\",\n",
    "    \"<pad>\",\n",
    "    \"</s>\",\n",
    "    \"<unk>\",\n",
    "    \"<mask>\",\n",
    "])\n"
   ]
  },
  {
   "cell_type": "code",
   "execution_count": 6,
   "id": "075f400e",
   "metadata": {},
   "outputs": [
    {
     "name": "stdout",
     "output_type": "stream",
     "text": [
      "number of words  15108\n"
     ]
    },
    {
     "data": {
      "text/plain": [
       "['../data/redditTok-vocab.json', '../data/redditTok-merges.txt']"
      ]
     },
     "execution_count": 6,
     "metadata": {},
     "output_type": "execute_result"
    }
   ],
   "source": [
    "tokenizer.enable_padding(pad_token='</s>')\n",
    "end_token_id = tokenizer.token_to_id('</s>')\n",
    "start_token_id = tokenizer.token_to_id('<s>')\n",
    "pad_token_id = end_token_id\n",
    "\n",
    "\n",
    "encode = lambda s: tokenizer.encode(s).ids\n",
    "decode = lambda l: tokenizer.decode(l)\n",
    "\n",
    "vocab_size = tokenizer.get_vocab_size()\n",
    "print(\"number of words \" , vocab_size)\n",
    "\n",
    "tokenizer.encode('<s> hi how are you? </s>').ids\n",
    "# Save files to disk\n",
    "tokenizer.save_model(path_to_data, \"redditTok\")"
   ]
  },
  {
   "cell_type": "code",
   "execution_count": 7,
   "id": "0f591924",
   "metadata": {},
   "outputs": [],
   "source": [
    "tokenizer = ByteLevelBPETokenizer(path_to_data + 'redditTok-vocab.json', path_to_data +'redditTok-merges.txt')\n",
    "pad_token_id = tokenizer.token_to_id('</s>')"
   ]
  },
  {
   "cell_type": "code",
   "execution_count": 8,
   "id": "707befac",
   "metadata": {},
   "outputs": [
    {
     "name": "stdout",
     "output_type": "stream",
     "text": [
      "median lenght 28 \n"
     ]
    },
    {
     "data": {
      "image/png": "[encoded data removed]",
      "text/plain": [
       "<Figure size 1080x360 with 1 Axes>"
      ]
     },
     "metadata": {
      "needs_background": "light"
     },
     "output_type": "display_data"
    }
   ],
   "source": [
    "len_tokens = [len(encode(x)) for x in text_data]\n",
    "\n",
    "plt.figure(figsize=(15,5))\n",
    "plt.hist(len_tokens,20);\n",
    "\n",
    "ax = plt.gca()\n",
    "\n",
    "plt.title(\"Distribution of # of tokens\")\n",
    "plt.xlabel(\"Number of tokens in a sequence\")\n",
    "plt.ylabel(\"Count\")\n",
    "ax.set_xlim([0, 300])\n",
    "\n",
    "print(f\"median lenght %d \"%np.median(len_tokens))\n",
    "\n",
    "block_size = 64 \n",
    "tokenizer.enable_truncation(max_length=block_size)"
   ]
  },
  {
   "cell_type": "markdown",
   "id": "6249ae6f",
   "metadata": {},
   "source": [
    "# Hyperparameters"
   ]
  },
  {
   "cell_type": "code",
   "execution_count": 9,
   "id": "3b930321",
   "metadata": {},
   "outputs": [
    {
     "data": {
      "text/plain": [
       "<torch._C.Generator at 0x7fd7e5874bf0>"
      ]
     },
     "execution_count": 9,
     "metadata": {},
     "output_type": "execute_result"
    }
   ],
   "source": [
    "max_iters = 21\n",
    "eval_interval = 4\n",
    "learning_rate = 1e-5\n",
    "eval_iters = 2\n",
    "\n",
    "\n",
    "@dataclass\n",
    "class GPTConfig:\n",
    "    block_size: int = block_size\n",
    "    vocab_size: int = vocab_size\n",
    "    n_layer: int = 6\n",
    "    n_head: int = 4\n",
    "    n_embd: int = 512\n",
    "    dropout: float = 0.2\n",
    "    batch_size: int = 32\n",
    "    temperature=1.0 \n",
    "    top_k=20\n",
    "        \n",
    "config = GPTConfig()\n",
    "\n",
    "dill.dump(config,open(path_to_data + 'scratch_reddit_gpt_config.pickle','wb'))\n",
    "\n",
    "\n",
    "device = 'cuda' if torch.cuda.is_available() else 'cpu'\n",
    "\n",
    "\n",
    "ptdtype = {'float32': torch.float32, 'bfloat16': torch.bfloat16, 'float16': torch.float16}['float16']\n",
    "ctx = nullcontext() if device == 'cpu' else torch.amp.autocast(device_type=device, dtype=ptdtype)\n",
    "\n",
    "\n",
    "torch.manual_seed(1337)"
   ]
  },
  {
   "cell_type": "markdown",
   "id": "37929329",
   "metadata": {},
   "source": [
    "Chunking data to be around median length. could help avoiding adding too many padding tokens later "
   ]
  },
  {
   "cell_type": "code",
   "execution_count": 10,
   "id": "6228007a",
   "metadata": {},
   "outputs": [],
   "source": [
    "sequences = []\n",
    "for text in text_data :\n",
    "    words_ = text.split()\n",
    "    b = [0,config.block_size]\n",
    "    if len(words_) >= config.block_size: \n",
    "            words_seg = words_[b[0]:b[1]]\n",
    "            sequences.append(' '.join(words_seg))\n",
    "            b[0] += config.block_size\n",
    "            b[1] += config.block_size\n",
    "    else: \n",
    "        sequences.append(' '.join(words_))\n",
    "    "
   ]
  },
  {
   "cell_type": "markdown",
   "id": "e3dcd77b",
   "metadata": {},
   "source": [
    "# Train and validation splits"
   ]
  },
  {
   "cell_type": "code",
   "execution_count": 11,
   "id": "117761c0",
   "metadata": {},
   "outputs": [],
   "source": [
    "# padding sequences to be of the same size\n",
    "data_ids = []\n",
    "for seq in sequences:\n",
    "    ids = encode(seq)\n",
    "    if len(ids) == block_size: \n",
    "        ids[0] = start_token_id\n",
    "        ids[-1] = end_token_id\n",
    "        \n",
    "    elif len(ids) < block_size: \n",
    "        ids[0] = start_token_id\n",
    "        ids[-1] = pad_token_id\n",
    "        while len(ids) != block_size: \n",
    "            ids.append(pad_token_id)\n",
    "        ids[-1] = end_token_id\n",
    "    data_ids.append(ids)"
   ]
  },
  {
   "cell_type": "code",
   "execution_count": 12,
   "id": "250c3e49",
   "metadata": {},
   "outputs": [
    {
     "name": "stdout",
     "output_type": "stream",
     "text": [
      "Number of training data  6362\n",
      "Number of validation data  335\n"
     ]
    }
   ],
   "source": [
    "data_ids = torch.tensor(data_ids, dtype=torch.long)\n",
    "\n",
    "n = int(0.95*len(data_ids)) # first 95% will be train, rest val\n",
    "train_data = data_ids[:n]\n",
    "val_data = data_ids[n:]\n",
    "\n",
    "print(\"Number of training data \" , len(train_data))\n",
    "print(\"Number of validation data \" , len(val_data))\n",
    "\n",
    "pickle.dump(train_data , open(path_to_data + 'train_data.pickle','wb'))\n",
    "pickle.dump(val_data , open(path_to_data + 'valid_data.pickle','wb'))"
   ]
  },
  {
   "cell_type": "markdown",
   "id": "ce2e1cee",
   "metadata": {},
   "source": [
    "## Data Loader"
   ]
  },
  {
   "cell_type": "code",
   "execution_count": 13,
   "id": "56a7b11b",
   "metadata": {},
   "outputs": [
    {
     "name": "stdout",
     "output_type": "stream",
     "text": [
      "trianing data (batch_size 32 , block_size 63)\n"
     ]
    }
   ],
   "source": [
    "print(f\"trianing data (batch_size %d , block_size %d)\"%(get_batch('train')[0].shape))"
   ]
  },
  {
   "cell_type": "markdown",
   "id": "bae6b3f7",
   "metadata": {},
   "source": [
    "# Self Attention - Decoder "
   ]
  },
  {
   "cell_type": "code",
   "execution_count": 14,
   "id": "7d6e4ab8",
   "metadata": {},
   "outputs": [
    {
     "data": {
      "image/png": "[encoded data removed]",
      "text/plain": [
       "<IPython.core.display.Image object>"
      ]
     },
     "metadata": {},
     "output_type": "display_data"
    }
   ],
   "source": [
    "display(Image(filename='../snapshots/head.png'))"
   ]
  },
  {
   "cell_type": "markdown",
   "id": "b5f394f8",
   "metadata": {},
   "source": [
    "To paraphrase Andrej K., \n",
    "\n",
    "\" We want the [words] to know about each other, information from the past.  Every single token emits two vectors, a query anda a key vector. Query is what am I looking for and key is what do I contain? The dot product of these two vector is maximized when the query and key are aligned which helps attention learn more about that specific token. \"\n"
   ]
  },
  {
   "cell_type": "code",
   "execution_count": 15,
   "id": "bbd850bb",
   "metadata": {},
   "outputs": [
    {
     "data": {
      "text/plain": [
       "Text(0.5, 1.0, 'v after Lora')"
      ]
     },
     "execution_count": 15,
     "metadata": {},
     "output_type": "execute_result"
    },
    {
     "data": {
      "image/png": "[encoded data removed]",
      "text/plain": [
       "<Figure size 360x360 with 1 Axes>"
      ]
     },
     "metadata": {
      "needs_background": "light"
     },
     "output_type": "display_data"
    },
    {
     "data": {
      "image/png": "[encoded data removed]",
      "text/plain": [
       "<Figure size 360x360 with 1 Axes>"
      ]
     },
     "metadata": {
      "needs_background": "light"
     },
     "output_type": "display_data"
    },
    {
     "data": {
      "image/png": "[encoded data removed]",
      "text/plain": [
       "<Figure size 360x360 with 1 Axes>"
      ]
     },
     "metadata": {
      "needs_background": "light"
     },
     "output_type": "display_data"
    }
   ],
   "source": [
    "B = 1 # batch size\n",
    "T = 16 # time stamps\n",
    "C = 32 # embedding dim\n",
    "head_size = 16 # head size \n",
    "x = torch.randn(B,T,C) # token embedding\n",
    "\n",
    "key   = nn.Linear(C, head_size, bias=False) # (C, hs)\n",
    "query = nn.Linear(C, head_size, bias=False) # (C, hs)\n",
    "\n",
    "k = key(x)  # (B, T, hs)\n",
    "q = query(x)# (B, T, hs)\n",
    "\n",
    "# Dot product followed by scaling \n",
    "# Scaling is important for softmax, specially in the early layers. \n",
    "# Scaling will help reduce the std ensuring the values won't get too large \n",
    "# in the softmax \n",
    "\n",
    "wei = q @ k.transpose(-2,-1) * k.shape[-1]**-0.5 \n",
    "tril = torch.tril(torch.ones(T, T))\n",
    "wei = wei.masked_fill(tril==0,float('-inf'))\n",
    "wei = F.softmax(wei,dim=-1) # (B, T, T)\n",
    "v = wei @ x\n",
    "\n",
    "plt.figure(figsize=(5,5))\n",
    "plt.imshow(wei.detach().numpy()[0,:,:])\n",
    "plt.title(\"Self Attention Weights\")\n",
    "\n",
    "plt.figure(figsize=(5,5))\n",
    "plt.imshow(v.detach().numpy()[0,:,:])\n",
    "plt.title(\"v before Lora\")\n",
    "\n",
    "# add LoRA \n",
    "rank = 8\n",
    "W_A = nn.Parameter(torch.empty(T, rank)) # LoRA weight A\n",
    "W_B = nn.Parameter(torch.empty(rank, C))\n",
    "nn.init.kaiming_uniform_(W_A, a=np.sqrt(5))\n",
    "nn.init.zeros_(W_B)\n",
    "\n",
    "v += W_A@W_B\n",
    "plt.figure(figsize=(5,5))\n",
    "plt.imshow(v.detach().numpy()[0,:,:])\n",
    "plt.title(\"v after Lora\")"
   ]
  },
  {
   "cell_type": "markdown",
   "id": "847a3164",
   "metadata": {},
   "source": [
    "# hyperparameters"
   ]
  },
  {
   "cell_type": "code",
   "execution_count": 16,
   "id": "9817f6a6",
   "metadata": {},
   "outputs": [
    {
     "name": "stdout",
     "output_type": "stream",
     "text": [
      "34.42458000000006 M trainable parameters\n",
      "random loss 4.179206976155488\n"
     ]
    }
   ],
   "source": [
    "# From scratch\n",
    "if FromDrive == 0:\n",
    "    model = GPTLanguageModel(config)\n",
    "    m = model.to(device)\n",
    "else:\n",
    "    print(\"loading from cache\")\n",
    "    # Further training an existing one\n",
    "    model  = torch.load(path_to_data + 'scratch_reddit_gpt2')\n",
    "    m = model.to(device)\n",
    "    config = pickle.load(open(path_to_data + 'scratch_reddit_gpt_config.pickle','rb'))\n",
    "\n",
    "optimizer = torch.optim.AdamW(model.parameters(), lr=learning_rate)\n",
    "print(sum([p.numel()/1e6 for p in m.parameters() if p.requires_grad]) , 'M trainable parameters')\n",
    "print( \"random loss\" , -np.log10(1/vocab_size))"
   ]
  },
  {
   "cell_type": "code",
   "execution_count": 17,
   "id": "88f07cd0",
   "metadata": {},
   "outputs": [
    {
     "name": "stdout",
     "output_type": "stream",
     "text": [
      "<s> clothes intact region warmer loaf post denisovankali jacks training jonathan withinna� artific cataly sequ rati ultra biplanes payloads beneathrum poland jerkoricwi venus prob messingaco involves\n"
     ]
    },
    {
     "ename": "NameError",
     "evalue": "name 'eval_iters' is not defined",
     "output_type": "error",
     "traceback": [
      "\u001b[0;31m---------------------------------------------------------------------------\u001b[0m",
      "\u001b[0;31mNameError\u001b[0m                                 Traceback (most recent call last)",
      "Input \u001b[0;32mIn [17]\u001b[0m, in \u001b[0;36m<cell line: 4>\u001b[0;34m()\u001b[0m\n\u001b[1;32m      6\u001b[0m decoded_context \u001b[38;5;241m=\u001b[39m decode(m\u001b[38;5;241m.\u001b[39mgenerate(context, max_new_tokens\u001b[38;5;241m=\u001b[39m\u001b[38;5;241m32\u001b[39m)[\u001b[38;5;241m0\u001b[39m]\u001b[38;5;241m.\u001b[39mtolist())\n\u001b[1;32m      7\u001b[0m \u001b[38;5;28mprint\u001b[39m(\u001b[38;5;124m'\u001b[39m\u001b[38;5;124m \u001b[39m\u001b[38;5;124m'\u001b[39m\u001b[38;5;241m.\u001b[39mjoin(decoded_context\u001b[38;5;241m.\u001b[39msplit()))\n\u001b[0;32m----> 8\u001b[0m losses \u001b[38;5;241m=\u001b[39m \u001b[43mestimate_loss\u001b[49m\u001b[43m(\u001b[49m\u001b[43mmodel\u001b[49m\u001b[43m)\u001b[49m\n\u001b[1;32m      9\u001b[0m \u001b[38;5;28mprint\u001b[39m(\u001b[38;5;124m\"\u001b[39m\u001b[38;5;124m---\u001b[39m\u001b[38;5;124m\"\u001b[39m)\n\u001b[1;32m     10\u001b[0m \u001b[38;5;28mprint\u001b[39m(\u001b[38;5;124mf\u001b[39m\u001b[38;5;124m\"\u001b[39m\u001b[38;5;124mstep \u001b[39m\u001b[38;5;132;01m{\u001b[39;00miter_\u001b[38;5;132;01m}\u001b[39;00m\u001b[38;5;124m: train loss \u001b[39m\u001b[38;5;132;01m{\u001b[39;00mlosses[\u001b[38;5;124m'\u001b[39m\u001b[38;5;124mtrain\u001b[39m\u001b[38;5;124m'\u001b[39m]\u001b[38;5;132;01m:\u001b[39;00m\u001b[38;5;124m.4f\u001b[39m\u001b[38;5;132;01m}\u001b[39;00m\u001b[38;5;124m, val loss \u001b[39m\u001b[38;5;132;01m{\u001b[39;00mlosses[\u001b[38;5;124m'\u001b[39m\u001b[38;5;124mval\u001b[39m\u001b[38;5;124m'\u001b[39m]\u001b[38;5;132;01m:\u001b[39;00m\u001b[38;5;124m.4f\u001b[39m\u001b[38;5;132;01m}\u001b[39;00m\u001b[38;5;124m \u001b[39m\u001b[38;5;130;01m\\n\u001b[39;00m\u001b[38;5;124m\"\u001b[39m)\n",
      "File \u001b[0;32m~/miniconda3/envs/ramin/lib/python3.8/site-packages/torch/autograd/grad_mode.py:27\u001b[0m, in \u001b[0;36m_DecoratorContextManager.__call__.<locals>.decorate_context\u001b[0;34m(*args, **kwargs)\u001b[0m\n\u001b[1;32m     24\u001b[0m \u001b[38;5;129m@functools\u001b[39m\u001b[38;5;241m.\u001b[39mwraps(func)\n\u001b[1;32m     25\u001b[0m \u001b[38;5;28;01mdef\u001b[39;00m \u001b[38;5;21mdecorate_context\u001b[39m(\u001b[38;5;241m*\u001b[39margs, \u001b[38;5;241m*\u001b[39m\u001b[38;5;241m*\u001b[39mkwargs):\n\u001b[1;32m     26\u001b[0m     \u001b[38;5;28;01mwith\u001b[39;00m \u001b[38;5;28mself\u001b[39m\u001b[38;5;241m.\u001b[39mclone():\n\u001b[0;32m---> 27\u001b[0m         \u001b[38;5;28;01mreturn\u001b[39;00m \u001b[43mfunc\u001b[49m\u001b[43m(\u001b[49m\u001b[38;5;241;43m*\u001b[39;49m\u001b[43margs\u001b[49m\u001b[43m,\u001b[49m\u001b[43m \u001b[49m\u001b[38;5;241;43m*\u001b[39;49m\u001b[38;5;241;43m*\u001b[39;49m\u001b[43mkwargs\u001b[49m\u001b[43m)\u001b[49m\n",
      "File \u001b[0;32m~/Desktop/GPT/notebooks/../utils/helper.py:43\u001b[0m, in \u001b[0;36mestimate_loss\u001b[0;34m(model)\u001b[0m\n\u001b[1;32m     41\u001b[0m model\u001b[38;5;241m.\u001b[39meval()\n\u001b[1;32m     42\u001b[0m \u001b[38;5;28;01mfor\u001b[39;00m split \u001b[38;5;129;01min\u001b[39;00m [\u001b[38;5;124m'\u001b[39m\u001b[38;5;124mtrain\u001b[39m\u001b[38;5;124m'\u001b[39m, \u001b[38;5;124m'\u001b[39m\u001b[38;5;124mval\u001b[39m\u001b[38;5;124m'\u001b[39m]:\n\u001b[0;32m---> 43\u001b[0m     losses \u001b[38;5;241m=\u001b[39m torch\u001b[38;5;241m.\u001b[39mzeros(\u001b[43meval_iters\u001b[49m)\n\u001b[1;32m     44\u001b[0m     \u001b[38;5;28;01mfor\u001b[39;00m k \u001b[38;5;129;01min\u001b[39;00m \u001b[38;5;28mrange\u001b[39m(eval_iters):\n\u001b[1;32m     45\u001b[0m         X, Y \u001b[38;5;241m=\u001b[39m get_batch(split)\n",
      "\u001b[0;31mNameError\u001b[0m: name 'eval_iters' is not defined"
     ]
    }
   ],
   "source": [
    "start = '<s>'\n",
    "context = torch.tensor([encode(start)], dtype=torch.long, device=device)\n",
    "        \n",
    "for iter_ in range(max_iters):\n",
    "    if iter_> 1 and iter_ % eval_interval == 0 or iter_ == max_iters - 1:\n",
    "        decoded_context = decode(m.generate(context, max_new_tokens=32)[0].tolist())\n",
    "        print(' '.join(decoded_context.split()))\n",
    "        losses = estimate_loss(model)\n",
    "        print(\"---\")\n",
    "        print(f\"step {iter_}: train loss {losses['train']:.4f}, val loss {losses['val']:.4f} \\n\")\n",
    "        print(\"####################################################\")\n",
    "        \n",
    "    # sample a batch of data\n",
    "    xb, yb = get_batch('train')\n",
    "\n",
    "    # evaluate the loss\n",
    "    with ctx:\n",
    "        logits, loss = model(xb, yb)\n",
    "        \n",
    "    optimizer.zero_grad(set_to_none=True)\n",
    "    loss.backward()\n",
    "    optimizer.step()\n",
    "    "
   ]
  },
  {
   "cell_type": "code",
   "execution_count": null,
   "id": "f5d02d60",
   "metadata": {
    "scrolled": true
   },
   "outputs": [],
   "source": [
    "# Saving model and artifacts\n",
    "torch.save(m, '../data/scratch_reddit_gpt_2' )\n",
    "dill.dump(config,open(path_to_data + 'scratch_reddit_gpt_config.pickle','wb'))\n"
   ]
  },
  {
   "cell_type": "markdown",
   "id": "06a55256",
   "metadata": {},
   "source": [
    "# Decoding "
   ]
  },
  {
   "cell_type": "code",
   "execution_count": null,
   "id": "ba608807",
   "metadata": {},
   "outputs": [],
   "source": [
    "# generate from the model\n",
    "start = 'how'\n",
    "context = torch.tensor([encode(start)], dtype=torch.long, device=device)\n",
    "decoded_context = decode(m.generate(context, max_new_tokens=config.block_size)[0].tolist())\n",
    "print(' '.join(decoded_context.split()))\n"
   ]
  },
  {
   "cell_type": "code",
   "execution_count": null,
   "id": "c67fd0f1",
   "metadata": {},
   "outputs": [],
   "source": []
  },
  {
   "cell_type": "code",
   "execution_count": null,
   "id": "d523f620",
   "metadata": {},
   "outputs": [],
   "source": []
  }
 ],
 "metadata": {
  "kernelspec": {
   "display_name": "Python 3 (ipykernel)",
   "language": "python",
   "name": "python3"
  },
  "language_info": {
   "codemirror_mode": {
    "name": "ipython",
    "version": 3
   },
   "file_extension": ".py",
   "mimetype": "text/x-python",
   "name": "python",
   "nbconvert_exporter": "python",
   "pygments_lexer": "ipython3",
   "version": "3.8.12"
  }
 },
 "nbformat": 4,
 "nbformat_minor": 5
}
